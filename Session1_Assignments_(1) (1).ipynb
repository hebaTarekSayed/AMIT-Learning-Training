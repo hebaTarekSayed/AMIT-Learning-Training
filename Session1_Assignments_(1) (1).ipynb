{
  "cells": [
    {
      "cell_type": "markdown",
      "id": "c067dcd9",
      "metadata": {
        "id": "c067dcd9"
      },
      "source": [
        "### Q1. Create a list of five integers and print it."
      ]
    },
    {
      "cell_type": "code",
      "execution_count": 1,
      "id": "e59b2cce",
      "metadata": {
        "colab": {
          "base_uri": "https://localhost:8080/"
        },
        "id": "e59b2cce",
        "outputId": "5aef63e2-719a-4bbc-9b42-dfce6d44821b"
      },
      "outputs": [
        {
          "output_type": "stream",
          "name": "stdout",
          "text": [
            "[1, 2, 3, 4, 5]\n"
          ]
        }
      ],
      "source": [
        "list = [1, 2, 3, 4, 5]\n",
        "print(list)"
      ]
    },
    {
      "cell_type": "markdown",
      "id": "a2d05fd3",
      "metadata": {
        "id": "a2d05fd3"
      },
      "source": [
        "### Q2. Write a program to find the length of a list."
      ]
    },
    {
      "cell_type": "code",
      "execution_count": null,
      "id": "6b75c5d1",
      "metadata": {
        "colab": {
          "base_uri": "https://localhost:8080/"
        },
        "id": "6b75c5d1",
        "outputId": "0afadd33-fb89-449f-96bb-192eed49b5ea"
      },
      "outputs": [
        {
          "output_type": "stream",
          "name": "stdout",
          "text": [
            "The length of the list is: 5\n"
          ]
        }
      ],
      "source": [
        "list = [6, 7, 8, 9, 10]\n",
        "length = len(list)\n",
        "print(\"The length of the list is:\", length)\n"
      ]
    },
    {
      "cell_type": "markdown",
      "id": "c705d6ac",
      "metadata": {
        "id": "c705d6ac"
      },
      "source": [
        "### Q3. Create a tuple with three elements and print the second item."
      ]
    },
    {
      "cell_type": "code",
      "execution_count": null,
      "id": "61c1e11e",
      "metadata": {
        "colab": {
          "base_uri": "https://localhost:8080/"
        },
        "id": "61c1e11e",
        "outputId": "526cbfe8-049c-4121-b9d5-b21e3cb8cc43"
      },
      "outputs": [
        {
          "output_type": "stream",
          "name": "stdout",
          "text": [
            "The second item is: 20\n"
          ]
        }
      ],
      "source": [
        "tuple = (10, 20, 30)\n",
        "print(\"The second item is:\",tuple[1])\n"
      ]
    },
    {
      "cell_type": "markdown",
      "id": "a3fb1843",
      "metadata": {
        "id": "a3fb1843"
      },
      "source": [
        "### Q4. Create a dictionary with 3 key-value pairs and print all keys."
      ]
    },
    {
      "cell_type": "code",
      "execution_count": null,
      "id": "c588c043",
      "metadata": {
        "colab": {
          "base_uri": "https://localhost:8080/"
        },
        "id": "c588c043",
        "outputId": "77251563-f24e-4689-ff56-4d17d10d7c55"
      },
      "outputs": [
        {
          "output_type": "stream",
          "name": "stdout",
          "text": [
            "Keys: dict_keys(['name', 'age', 'country'])\n"
          ]
        }
      ],
      "source": [
        "dict = {\"name\": \"Heba\", \"age\": 21, \"country\": \"Egypt\"}\n",
        "print(\"Keys:\", dict.keys())\n"
      ]
    },
    {
      "cell_type": "markdown",
      "id": "499c5644",
      "metadata": {
        "id": "499c5644"
      },
      "source": [
        "### Q5. Write a program to convert a list into a set."
      ]
    },
    {
      "cell_type": "code",
      "execution_count": null,
      "id": "5b3e7b61",
      "metadata": {
        "colab": {
          "base_uri": "https://localhost:8080/"
        },
        "id": "5b3e7b61",
        "outputId": "4bcbe224-79b2-40f9-e5f9-273506196682"
      },
      "outputs": [
        {
          "output_type": "stream",
          "name": "stdout",
          "text": [
            "Set: {1, 2, 3, 4, 5}\n"
          ]
        }
      ],
      "source": [
        "list = [1, 2, 2, 3, 3, 4, 5]\n",
        "myset = set(list)\n",
        "print(\"Set:\", myset)\n"
      ]
    },
    {
      "cell_type": "markdown",
      "id": "a0e55b4f",
      "metadata": {
        "id": "a0e55b4f"
      },
      "source": [
        "### Q6. Create a string and print its first and last characters."
      ]
    },
    {
      "cell_type": "code",
      "execution_count": null,
      "id": "b5cc0d08",
      "metadata": {
        "colab": {
          "base_uri": "https://localhost:8080/"
        },
        "id": "b5cc0d08",
        "outputId": "442459e0-efdc-49f5-c01f-e4ab8266006e"
      },
      "outputs": [
        {
          "output_type": "stream",
          "name": "stdout",
          "text": [
            "First character: h\n",
            "Last character: a\n"
          ]
        }
      ],
      "source": [
        "mystring = \"heba\"\n",
        "print(\"First character:\", mystring[0])\n",
        "print(\"Last character:\", mystring[-1])\n"
      ]
    },
    {
      "cell_type": "markdown",
      "id": "f4adb032",
      "metadata": {
        "id": "f4adb032"
      },
      "source": [
        "### Q7. Take input from the user and print it."
      ]
    },
    {
      "cell_type": "code",
      "execution_count": null,
      "id": "cc325325",
      "metadata": {
        "colab": {
          "base_uri": "https://localhost:8080/"
        },
        "id": "cc325325",
        "outputId": "4031d47c-6d0c-4a82-b168-2de032dea1ac"
      },
      "outputs": [
        {
          "output_type": "stream",
          "name": "stdout",
          "text": [
            "what is your name ? heba\n",
            "my name is Heba heba\n"
          ]
        }
      ],
      "source": [
        "input = input(\"what is your name ? \")\n",
        "print(\"my name is Heba\", input)\n"
      ]
    },
    {
      "cell_type": "markdown",
      "id": "32003cd3",
      "metadata": {
        "id": "32003cd3"
      },
      "source": [
        "### Q8. Write a program to add two numbers entered by the user."
      ]
    },
    {
      "cell_type": "code",
      "source": [
        "from google.colab import widgets"
      ],
      "metadata": {
        "id": "aiO2Oukf4wyU"
      },
      "id": "aiO2Oukf4wyU",
      "execution_count": null,
      "outputs": []
    },
    {
      "cell_type": "code",
      "source": [
        "user_name = input(\"what is your name ? \")"
      ],
      "metadata": {
        "id": "Rl8kWlfr4Ahx",
        "outputId": "a0b2bdde-32cc-4c33-aa06-febd0a9cce9c",
        "colab": {
          "base_uri": "https://localhost:8080/",
          "height": 146
        }
      },
      "id": "Rl8kWlfr4Ahx",
      "execution_count": null,
      "outputs": [
        {
          "output_type": "error",
          "ename": "TypeError",
          "evalue": "'str' object is not callable",
          "traceback": [
            "\u001b[0;31m---------------------------------------------------------------------------\u001b[0m",
            "\u001b[0;31mTypeError\u001b[0m                                 Traceback (most recent call last)",
            "\u001b[0;32m/tmp/ipython-input-31-680507398.py\u001b[0m in \u001b[0;36m<cell line: 0>\u001b[0;34m()\u001b[0m\n\u001b[0;32m----> 1\u001b[0;31m \u001b[0muser_name\u001b[0m \u001b[0;34m=\u001b[0m \u001b[0minput\u001b[0m\u001b[0;34m(\u001b[0m\u001b[0;34m\"what is your name ? \"\u001b[0m\u001b[0;34m)\u001b[0m\u001b[0;34m\u001b[0m\u001b[0;34m\u001b[0m\u001b[0m\n\u001b[0m",
            "\u001b[0;31mTypeError\u001b[0m: 'str' object is not callable"
          ]
        }
      ]
    },
    {
      "cell_type": "code",
      "source": [
        "del input\n",
        " x = int(input(\"Enter the first number:\"))\n",
        "y = int(input(\"Enter the second number:\"))\n",
        "sum = x + y\n",
        "print(\"The sum is:\", sum)"
      ],
      "metadata": {
        "colab": {
          "base_uri": "https://localhost:8080/",
          "height": 110
        },
        "id": "AnsWi3tB3gsI",
        "outputId": "33aec91e-cb14-43c9-ab17-e15adeb324bd"
      },
      "id": "AnsWi3tB3gsI",
      "execution_count": 45,
      "outputs": [
        {
          "output_type": "error",
          "ename": "IndentationError",
          "evalue": "unexpected indent (ipython-input-45-3393353965.py, line 2)",
          "traceback": [
            "\u001b[0;36m  File \u001b[0;32m\"/tmp/ipython-input-45-3393353965.py\"\u001b[0;36m, line \u001b[0;32m2\u001b[0m\n\u001b[0;31m    x = int(input(\"Enter the first number:\"))\u001b[0m\n\u001b[0m    ^\u001b[0m\n\u001b[0;31mIndentationError\u001b[0m\u001b[0;31m:\u001b[0m unexpected indent\n"
          ]
        }
      ]
    },
    {
      "cell_type": "code",
      "execution_count": null,
      "id": "1cce015b",
      "metadata": {
        "colab": {
          "base_uri": "https://localhost:8080/",
          "height": 200
        },
        "id": "1cce015b",
        "outputId": "9ba19d13-2204-4e0a-b9c6-7b599cb2f191"
      },
      "outputs": [
        {
          "output_type": "error",
          "ename": "TypeError",
          "evalue": "'str' object is not callable",
          "traceback": [
            "\u001b[0;31m---------------------------------------------------------------------------\u001b[0m",
            "\u001b[0;31mTypeError\u001b[0m                                 Traceback (most recent call last)",
            "\u001b[0;32m/tmp/ipython-input-21-1254075372.py\u001b[0m in \u001b[0;36m<cell line: 0>\u001b[0;34m()\u001b[0m\n\u001b[0;32m----> 1\u001b[0;31m \u001b[0mnum1\u001b[0m \u001b[0;34m=\u001b[0m \u001b[0minput\u001b[0m\u001b[0;34m(\u001b[0m\u001b[0;34m\"enter your number\"\u001b[0m\u001b[0;34m)\u001b[0m\u001b[0;34m\u001b[0m\u001b[0;34m\u001b[0m\u001b[0m\n\u001b[0m\u001b[1;32m      2\u001b[0m \u001b[0mnum2\u001b[0m \u001b[0;34m=\u001b[0m \u001b[0mint\u001b[0m\u001b[0;34m(\u001b[0m\u001b[0minput\u001b[0m\u001b[0;34m(\u001b[0m\u001b[0;34m)\u001b[0m\u001b[0;34m)\u001b[0m\u001b[0;34m\u001b[0m\u001b[0;34m\u001b[0m\u001b[0m\n\u001b[1;32m      3\u001b[0m \u001b[0msum\u001b[0m \u001b[0;34m=\u001b[0m \u001b[0mnum1\u001b[0m \u001b[0;34m+\u001b[0m \u001b[0mnum2\u001b[0m\u001b[0;34m\u001b[0m\u001b[0;34m\u001b[0m\u001b[0m\n\u001b[1;32m      4\u001b[0m \u001b[0mprint\u001b[0m\u001b[0;34m(\u001b[0m\u001b[0;34m\"The sum is:\"\u001b[0m\u001b[0;34m,\u001b[0m \u001b[0msum\u001b[0m\u001b[0;34m)\u001b[0m\u001b[0;34m\u001b[0m\u001b[0;34m\u001b[0m\u001b[0m\n",
            "\u001b[0;31mTypeError\u001b[0m: 'str' object is not callable"
          ]
        }
      ],
      "source": [
        "\n"
      ]
    },
    {
      "cell_type": "markdown",
      "id": "7eb34a32",
      "metadata": {
        "id": "7eb34a32"
      },
      "source": [
        "### Q9. Use `type()` function to check the data type of a variable."
      ]
    },
    {
      "cell_type": "code",
      "execution_count": null,
      "id": "cfd2011d",
      "metadata": {
        "colab": {
          "base_uri": "https://localhost:8080/"
        },
        "id": "cfd2011d",
        "outputId": "f0461200-5f04-4b12-e0d0-8eb6a6616490"
      },
      "outputs": [
        {
          "output_type": "stream",
          "name": "stdout",
          "text": [
            "Type of x: <class 'int'>\n"
          ]
        }
      ],
      "source": [
        "x = 555\n",
        "print(\"Type of x:\", type(x))\n"
      ]
    },
    {
      "cell_type": "markdown",
      "id": "be64d8e2",
      "metadata": {
        "id": "be64d8e2"
      },
      "source": [
        "### Q10. Create a boolean variable and print it."
      ]
    },
    {
      "cell_type": "code",
      "execution_count": null,
      "id": "46812973",
      "metadata": {
        "id": "46812973"
      },
      "outputs": [],
      "source": [
        "student = True\n",
        "print(\"Boolean variable:\", student)\n"
      ]
    },
    {
      "cell_type": "markdown",
      "id": "53765968",
      "metadata": {
        "id": "53765968"
      },
      "source": [
        "### Q11. Check if a number is positive, negative, or zero using `if` statement."
      ]
    },
    {
      "cell_type": "code",
      "execution_count": null,
      "id": "0623e6d5",
      "metadata": {
        "id": "0623e6d5"
      },
      "outputs": [],
      "source": [
        "num = int(input(100 ))\n",
        "\n",
        "if num > 0:\n",
        "    print(5)\n",
        "elif num < 0:\n",
        "    print(-1)\n",
        "else:\n",
        "    print(0)\n"
      ]
    },
    {
      "cell_type": "markdown",
      "id": "79b115a2",
      "metadata": {
        "id": "79b115a2"
      },
      "source": [
        "### Q12. Write a program to check if a number is even or odd."
      ]
    },
    {
      "cell_type": "code",
      "execution_count": null,
      "id": "efcc28dc",
      "metadata": {
        "id": "efcc28dc"
      },
      "outputs": [],
      "source": [
        "num = int(input(100))\n",
        "\n",
        "if num % 2 == 0:\n",
        "    print(4)\n",
        "else:\n",
        "    print(1)\n"
      ]
    },
    {
      "cell_type": "markdown",
      "id": "4e15996d",
      "metadata": {
        "id": "4e15996d"
      },
      "source": [
        "### Q13. Write a program that prints your name 3 times using a `for` loop."
      ]
    },
    {
      "cell_type": "code",
      "execution_count": null,
      "id": "a213b9fd",
      "metadata": {
        "id": "a213b9fd"
      },
      "outputs": [],
      "source": [
        "for i in range(3):\n",
        "    print(\"Heba\")\n"
      ]
    },
    {
      "cell_type": "markdown",
      "id": "3deb94cc",
      "metadata": {
        "id": "3deb94cc"
      },
      "source": [
        "### Q14. Write a `for` loop that prints numbers from 1 to 10."
      ]
    },
    {
      "cell_type": "code",
      "execution_count": null,
      "id": "2f806196",
      "metadata": {
        "id": "2f806196"
      },
      "outputs": [],
      "source": [
        "for i in range(1, 11):\n",
        "    print(i)\n"
      ]
    },
    {
      "cell_type": "markdown",
      "id": "ede90dd1",
      "metadata": {
        "id": "ede90dd1"
      },
      "source": [
        "### Q15. Use a `for` loop to iterate over a list and print each element."
      ]
    },
    {
      "cell_type": "code",
      "execution_count": null,
      "id": "ca9ff07e",
      "metadata": {
        "id": "ca9ff07e"
      },
      "outputs": [],
      "source": [
        "list = [10, 20, 30, 40, 50]\n",
        "\n",
        "for item in list:\n",
        "    print(item)\n"
      ]
    },
    {
      "cell_type": "markdown",
      "id": "850c2ca8",
      "metadata": {
        "id": "850c2ca8"
      },
      "source": [
        "### Q16. Write a program to calculate the sum of numbers from 1 to 100."
      ]
    },
    {
      "cell_type": "code",
      "execution_count": null,
      "id": "16a8cd5c",
      "metadata": {
        "id": "16a8cd5c"
      },
      "outputs": [],
      "source": [
        "total = 0\n",
        "for i in range(1, 101):\n",
        "    total += i\n",
        "print(\"The sum is:\", total)\n"
      ]
    },
    {
      "cell_type": "markdown",
      "id": "6250746b",
      "metadata": {
        "id": "6250746b"
      },
      "source": [
        "### Q17. Write a `for` loop that prints only even numbers from 1 to 20."
      ]
    },
    {
      "cell_type": "code",
      "execution_count": 35,
      "id": "2764eb99",
      "metadata": {
        "id": "2764eb99",
        "colab": {
          "base_uri": "https://localhost:8080/"
        },
        "outputId": "43cafce8-476e-4f28-8447-22c1f7f4136d"
      },
      "outputs": [
        {
          "output_type": "stream",
          "name": "stdout",
          "text": [
            "2\n",
            "4\n",
            "6\n",
            "8\n",
            "10\n",
            "12\n",
            "14\n",
            "16\n",
            "18\n",
            "20\n"
          ]
        }
      ],
      "source": [
        "for i in range(1, 21):\n",
        "    if i % 2 == 0:\n",
        "        print(i)\n"
      ]
    },
    {
      "cell_type": "markdown",
      "id": "3b2408b5",
      "metadata": {
        "id": "3b2408b5"
      },
      "source": [
        "### Q18. Write a `for` loop to print each character in a string."
      ]
    },
    {
      "cell_type": "code",
      "execution_count": null,
      "id": "fc73c912",
      "metadata": {
        "id": "fc73c912"
      },
      "outputs": [],
      "source": [
        "text = \"AI\"\n",
        "\n",
        "for char in text:\n",
        "    print(char)\n"
      ]
    },
    {
      "cell_type": "markdown",
      "id": "c75cb287",
      "metadata": {
        "id": "c75cb287"
      },
      "source": [
        "### Q19. Use a `for` loop to print all values in a dictionary."
      ]
    },
    {
      "cell_type": "code",
      "execution_count": null,
      "id": "62d9d757",
      "metadata": {
        "id": "62d9d757"
      },
      "outputs": [],
      "source": [
        "my_dict = {\"name\": \"Heba\", \"age\": 21, \"country\": \"Egypt\"}\n",
        "\n",
        "for value in my_dict.values():\n",
        "    print(value)\n"
      ]
    },
    {
      "cell_type": "markdown",
      "id": "6994e4ca",
      "metadata": {
        "id": "6994e4ca"
      },
      "source": [
        "### Q20. Write a program that uses a `for` loop to find the factorial of a number."
      ]
    },
    {
      "cell_type": "code",
      "execution_count": null,
      "id": "254cb435",
      "metadata": {
        "id": "254cb435"
      },
      "outputs": [],
      "source": [
        "num = 4\n",
        "factorial = 1\n",
        "for i in range(1, num + 1):\n",
        "    factorial *= i\n",
        "print(\"Factorial:\", factorial)\n"
      ]
    },
    {
      "cell_type": "markdown",
      "id": "92d3b300",
      "metadata": {
        "id": "92d3b300"
      },
      "source": [
        "### Q21. Create a list of your 5 favorite fruits."
      ]
    },
    {
      "cell_type": "code",
      "execution_count": null,
      "id": "3f2d07e3",
      "metadata": {
        "id": "3f2d07e3"
      },
      "outputs": [],
      "source": [
        "favorite_fruits = [\"Mango\", \"Strawberry\", \"Banana\", \"Apple\", \"Pineapple\"]\n",
        "\n",
        "print(\"My 5 favorite fruits are:\")\n",
        "for fruit in favorite_fruits:\n",
        "    print(\"-\", fruit)\n"
      ]
    },
    {
      "cell_type": "markdown",
      "id": "e3433500",
      "metadata": {
        "id": "e3433500"
      },
      "source": [
        "### Q22. Add a new fruit to your list of favorite fruits."
      ]
    },
    {
      "cell_type": "code",
      "execution_count": null,
      "id": "f9ffd8d2",
      "metadata": {
        "id": "f9ffd8d2"
      },
      "outputs": [],
      "source": [
        "favorite_fruits = [\"Mango\", \"Strawberry\", \"Banana\", \"Apple\", \"Pineapple\"]\n",
        "favorite_fruits.append(\"Grapes\")\n",
        "\n",
        "print(\"My favorite fruits are now:\")\n",
        "for fruit in favorite_fruits:\n",
        "    print(\"-\", fruit)\n"
      ]
    },
    {
      "cell_type": "markdown",
      "id": "a33917e4",
      "metadata": {
        "id": "a33917e4"
      },
      "source": [
        "### Q23. Remove the second item from a list."
      ]
    },
    {
      "cell_type": "code",
      "execution_count": null,
      "id": "0fac364c",
      "metadata": {
        "id": "0fac364c"
      },
      "outputs": [],
      "source": [
        "favorite_fruits = [\"Mango\", \"Strawberry\", \"Banana\", \"Apple\", \"Pineapple\"]\n",
        "\n",
        "del favorite_fruits[1]\n",
        "\n",
        "print(\"Fruits after removing the second item:\")\n",
        "for fruit in favorite_fruits:\n",
        "    print(\"-\", fruit)\n"
      ]
    },
    {
      "cell_type": "markdown",
      "id": "497047c6",
      "metadata": {
        "id": "497047c6"
      },
      "source": [
        "### Q24. Sort a list of numbers in descending order."
      ]
    },
    {
      "cell_type": "code",
      "execution_count": null,
      "id": "b9717e06",
      "metadata": {
        "id": "b9717e06"
      },
      "outputs": [],
      "source": [
        "numbers = [10, 15, 20, 15,17]\n",
        "numbers.sort(reverse=True)\n",
        "print(\"Sorted list (descending):\", numbers)\n"
      ]
    },
    {
      "cell_type": "markdown",
      "id": "6a3a29ad",
      "metadata": {
        "id": "6a3a29ad"
      },
      "source": [
        "### Q25. Find the maximum and minimum values in a list."
      ]
    },
    {
      "cell_type": "code",
      "execution_count": null,
      "id": "82cc41dd",
      "metadata": {
        "id": "82cc41dd"
      },
      "outputs": [],
      "source": [
        "numbers = [12, 17, 5, 13, 18]\n",
        "\n",
        "maximum = max(numbers)\n",
        "minimum = min(numbers)\n",
        "print(\"Maximum number:\", maximum)\n",
        "print(\"Minimum number:\", minimum)\n"
      ]
    },
    {
      "cell_type": "markdown",
      "id": "a5077085",
      "metadata": {
        "id": "a5077085"
      },
      "source": [
        "### Q26. Count how many times a value appears in a list."
      ]
    },
    {
      "cell_type": "code",
      "execution_count": null,
      "id": "5953d267",
      "metadata": {
        "id": "5953d267"
      },
      "outputs": [],
      "source": [
        "fruits = [\"Apple\", \"Banana\", \"Apple\", \"Mango\", \"Apple\"]\n",
        "\n",
        "count_apples = fruits.count(\"Apple\")\n",
        "\n",
        "print(\"Apple appears:\", count_apples, \"times\")\n"
      ]
    },
    {
      "cell_type": "markdown",
      "id": "e767871e",
      "metadata": {
        "id": "e767871e"
      },
      "source": [
        "### Q27. Check if a specific value exists in a list."
      ]
    },
    {
      "cell_type": "code",
      "execution_count": null,
      "id": "71ce08a2",
      "metadata": {
        "id": "71ce08a2"
      },
      "outputs": [],
      "source": [
        "if \"Orange\" in fruits:\n",
        "    print(\"Orange is in the list.\")\n",
        "else:\n",
        "    print(\"Orange is not in the list.\")\n"
      ]
    },
    {
      "cell_type": "markdown",
      "id": "346632ba",
      "metadata": {
        "id": "346632ba"
      },
      "source": [
        "### Q28. Reverse a list without using reverse() function."
      ]
    },
    {
      "cell_type": "code",
      "execution_count": null,
      "id": "663befc6",
      "metadata": {
        "id": "663befc6"
      },
      "outputs": [],
      "source": [
        "my_list = [1, 2, 3, 4, 5]\n",
        "# عكس باستخدام slicing\n",
        "print(my_list[::-1])\n"
      ]
    },
    {
      "cell_type": "markdown",
      "id": "4f28f319",
      "metadata": {
        "id": "4f28f319"
      },
      "source": [
        "### Q29. Make a copy of a list and modify the copy only."
      ]
    },
    {
      "cell_type": "code",
      "execution_count": null,
      "id": "e665fc96",
      "metadata": {
        "id": "e665fc96"
      },
      "outputs": [],
      "source": [
        "copy_list = [item for item in original]"
      ]
    },
    {
      "cell_type": "markdown",
      "id": "4fd7ffdf",
      "metadata": {
        "id": "4fd7ffdf"
      },
      "source": [
        "### Q30. Use slicing to get the first 3 items of a list."
      ]
    },
    {
      "cell_type": "code",
      "execution_count": null,
      "id": "5109bd94",
      "metadata": {
        "id": "5109bd94"
      },
      "outputs": [],
      "source": [
        "my_list = [50, 60, 70, 80, 900]\n",
        "first_three = my_list[:3]\n",
        "print(first_three)"
      ]
    },
    {
      "cell_type": "markdown",
      "id": "fa7d8cbc",
      "metadata": {
        "id": "fa7d8cbc"
      },
      "source": [
        "### Q31. Create a tuple with 4 elements and print its length."
      ]
    },
    {
      "cell_type": "code",
      "execution_count": null,
      "id": "1d519f4c",
      "metadata": {
        "id": "1d519f4c"
      },
      "outputs": [],
      "source": [
        "my_tuple = (5, 6, 7, 8)\n",
        "print(len(my_tuple))"
      ]
    },
    {
      "cell_type": "markdown",
      "id": "1fc14e2a",
      "metadata": {
        "id": "1fc14e2a"
      },
      "source": [
        "### Q32. Access the last element of a tuple."
      ]
    },
    {
      "cell_type": "code",
      "execution_count": null,
      "id": "924f8f7f",
      "metadata": {
        "id": "924f8f7f"
      },
      "outputs": [],
      "source": [
        "my_tuple = (50, 60, 70, 80)\n",
        "last_element = my_tuple[-1]\n",
        "print(last_element)"
      ]
    },
    {
      "cell_type": "markdown",
      "id": "31393230",
      "metadata": {
        "id": "31393230"
      },
      "source": [
        "### Q33. Convert a tuple into a list."
      ]
    },
    {
      "cell_type": "code",
      "execution_count": null,
      "id": "d419f723",
      "metadata": {
        "id": "d419f723"
      },
      "outputs": [],
      "source": [
        "my_tuple = (5, 6, 7, 8)\n",
        "my_list = list(my_tuple)\n",
        "print(my_list)"
      ]
    },
    {
      "cell_type": "markdown",
      "id": "f2605bd7",
      "metadata": {
        "id": "f2605bd7"
      },
      "source": [
        "### Q34. Convert a list into a tuple."
      ]
    },
    {
      "cell_type": "code",
      "execution_count": null,
      "id": "2fc2424c",
      "metadata": {
        "id": "2fc2424c"
      },
      "outputs": [],
      "source": [
        "my_list = [5, 6, 7, 8]\n",
        "my_tuple = tuple(my_list)\n",
        "print(my_tuple)"
      ]
    },
    {
      "cell_type": "markdown",
      "id": "8ea26fed",
      "metadata": {
        "id": "8ea26fed"
      },
      "source": [
        "### Q35. Check if a value exists in a tuple."
      ]
    },
    {
      "cell_type": "code",
      "execution_count": 44,
      "id": "502ca8ef",
      "metadata": {
        "id": "502ca8ef",
        "colab": {
          "base_uri": "https://localhost:8080/"
        },
        "outputId": "12a4dfe0-d26c-4061-e779-f88f7257d419"
      },
      "outputs": [
        {
          "output_type": "stream",
          "name": "stdout",
          "text": [
            "Yes, 70 is in the tuple\n"
          ]
        }
      ],
      "source": [
        "my_tuple = (50, 60, 70, 80)\n",
        "if 70 in my_tuple:\n",
        "    print(\"Yes, 70 is in the tuple\")\n",
        "else:\n",
        "    print(\"No, 70 is not in the tuple\")"
      ]
    },
    {
      "cell_type": "markdown",
      "id": "1861d487",
      "metadata": {
        "id": "1861d487"
      },
      "source": [
        "### Q36. Concatenate two tuples."
      ]
    },
    {
      "cell_type": "code",
      "execution_count": null,
      "id": "25990032",
      "metadata": {
        "id": "25990032"
      },
      "outputs": [],
      "source": [
        "tuple1 = (5, 6, 7)\n",
        "tuple2 = (8, 9, 10)\n",
        "\n",
        "result = tuple1 + tuple2\n",
        "print(result)"
      ]
    },
    {
      "cell_type": "markdown",
      "id": "7a62f436",
      "metadata": {
        "id": "7a62f436"
      },
      "source": [
        "### Q37. Repeat a tuple 3 times."
      ]
    },
    {
      "cell_type": "code",
      "execution_count": null,
      "id": "1342d94a",
      "metadata": {
        "id": "1342d94a"
      },
      "outputs": [],
      "source": [
        "my_tuple = (5, 6)\n",
        "repeated_tuple = my_tuple * 11\n",
        "print(repeated_tuple)"
      ]
    },
    {
      "cell_type": "markdown",
      "id": "5d54389e",
      "metadata": {
        "id": "5d54389e"
      },
      "source": [
        "### Q38. Find the index of an element in a tuple."
      ]
    },
    {
      "cell_type": "code",
      "execution_count": null,
      "id": "3dbcc47b",
      "metadata": {
        "id": "3dbcc47b"
      },
      "outputs": [],
      "source": [
        "my_tuple = (50, 60, 70, 80)\n",
        "\n",
        "index = my_tuple.index(70)\n",
        "print(\"Index of 70 is:\", index)"
      ]
    },
    {
      "cell_type": "markdown",
      "id": "41e0cb37",
      "metadata": {
        "id": "41e0cb37"
      },
      "source": [
        "### Q39. Use tuple unpacking to assign values to variables."
      ]
    },
    {
      "cell_type": "code",
      "execution_count": null,
      "id": "b38c6788",
      "metadata": {
        "id": "b38c6788"
      },
      "outputs": [],
      "source": [
        "my_tuple = (50, 60, 70)\n",
        "\n",
        "a, b, c = my_tuple\n",
        "\n",
        "print(\"a =\", a)\n",
        "print(\"b =\", b)\n",
        "print(\"c =\", c)"
      ]
    },
    {
      "cell_type": "markdown",
      "id": "70b69ddd",
      "metadata": {
        "id": "70b69ddd"
      },
      "source": [
        "### Q40. Create a nested list and access an inner element."
      ]
    },
    {
      "cell_type": "code",
      "execution_count": null,
      "id": "0d05b3e7",
      "metadata": {
        "id": "0d05b3e7"
      },
      "outputs": [],
      "source": [
        "nested_list = [[5, 6], [7, 8], [9, 10]]\n",
        "\n",
        "element = nested_list[5][5]\n",
        "\n",
        "print(\"Element:\", element)"
      ]
    },
    {
      "cell_type": "markdown",
      "id": "70256f64",
      "metadata": {
        "id": "70256f64"
      },
      "source": [
        "### Q41. Create a set of 5 unique colors."
      ]
    },
    {
      "cell_type": "code",
      "execution_count": null,
      "id": "4be1c2bb",
      "metadata": {
        "id": "4be1c2bb"
      },
      "outputs": [],
      "source": [
        "colors = {\"red\", \"blue\", \"green\", \"yellow\", \"purple\"}\n",
        "print(colors)"
      ]
    },
    {
      "cell_type": "markdown",
      "id": "774bddd7",
      "metadata": {
        "id": "774bddd7"
      },
      "source": [
        "### Q42. Add a new color to the set."
      ]
    },
    {
      "cell_type": "code",
      "execution_count": null,
      "id": "9129a921",
      "metadata": {
        "id": "9129a921"
      },
      "outputs": [],
      "source": [
        "colors = {\"red\", \"blue\", \"green\", \"yellow\", \"purple\"}\n",
        "\n",
        "colors.add(\"orange\")\n",
        "print(colors)"
      ]
    },
    {
      "cell_type": "markdown",
      "id": "3cc0470c",
      "metadata": {
        "id": "3cc0470c"
      },
      "source": [
        "### Q43. Remove an item from the set using `remove()`."
      ]
    },
    {
      "cell_type": "code",
      "execution_count": 36,
      "id": "e85423ac",
      "metadata": {
        "id": "e85423ac",
        "colab": {
          "base_uri": "https://localhost:8080/"
        },
        "outputId": "6bbec78a-5c35-412c-e20e-05149f60da79"
      },
      "outputs": [
        {
          "output_type": "stream",
          "name": "stdout",
          "text": [
            "{'yellow', 'purple', 'red', 'green'}\n"
          ]
        }
      ],
      "source": [
        "colors = {\"red\", \"blue\", \"green\", \"yellow\", \"purple\"}\n",
        "\n",
        "colors.remove(\"blue\")\n",
        "print(colors)"
      ]
    },
    {
      "cell_type": "markdown",
      "id": "b7047e3b",
      "metadata": {
        "id": "b7047e3b"
      },
      "source": [
        "### Q44. Use `discard()` to remove an item that may or may not exist."
      ]
    },
    {
      "cell_type": "code",
      "execution_count": null,
      "id": "adf2b3c2",
      "metadata": {
        "id": "adf2b3c2"
      },
      "outputs": [],
      "source": [
        "colors = {\"red\", \"blue\", \"green\", \"yellow\", \"purple\"}\n",
        "\n",
        "colors.discard(\"black\")\n",
        "print(colors)"
      ]
    },
    {
      "cell_type": "markdown",
      "id": "0c0338ca",
      "metadata": {
        "id": "0c0338ca"
      },
      "source": [
        "### Q45. Create a set from a list with duplicate values."
      ]
    },
    {
      "cell_type": "code",
      "execution_count": null,
      "id": "6918aaf4",
      "metadata": {
        "id": "6918aaf4"
      },
      "outputs": [],
      "source": [
        "my_list = [\"red\", \"blue\", \"red\", \"green\", \"blue\"]\n",
        "unique_colors = set(my_list)\n",
        "\n",
        "print(unique_colors)"
      ]
    },
    {
      "cell_type": "markdown",
      "id": "531ece70",
      "metadata": {
        "id": "531ece70"
      },
      "source": [
        "### Q46. Find the union of two sets."
      ]
    },
    {
      "cell_type": "code",
      "execution_count": null,
      "id": "f7c8d3a1",
      "metadata": {
        "id": "f7c8d3a1"
      },
      "outputs": [],
      "source": [
        "set1 = {\"red\", \"blue\", \"green\"}\n",
        "set2 = {\"yellow\", \"green\", \"purple\"}\n",
        "\n",
        "union_set = set1.union(set2)\n",
        "\n",
        "\n",
        "print(union_set)"
      ]
    },
    {
      "cell_type": "markdown",
      "id": "37ddac6b",
      "metadata": {
        "id": "37ddac6b"
      },
      "source": [
        "### Q47. Find the intersection of two sets."
      ]
    },
    {
      "cell_type": "code",
      "execution_count": null,
      "id": "cbb3d58f",
      "metadata": {
        "id": "cbb3d58f"
      },
      "outputs": [],
      "source": [
        "set1 = {\"red\", \"blue\", \"green\"}\n",
        "set2 = {\"green\", \"yellow\", \"purple\"}\n",
        "\n",
        "# Using intersection() method\n",
        "common_colors = set1.intersection(set2)\n",
        "\n",
        "# Or using & operator: common_colors = set1 & set2\n",
        "\n",
        "print(common_colors)"
      ]
    },
    {
      "cell_type": "markdown",
      "id": "cfba12fb",
      "metadata": {
        "id": "cfba12fb"
      },
      "source": [
        "### Q48. Find the difference between two sets."
      ]
    },
    {
      "cell_type": "code",
      "execution_count": 43,
      "id": "87d9d198",
      "metadata": {
        "id": "87d9d198",
        "colab": {
          "base_uri": "https://localhost:8080/"
        },
        "outputId": "cebde744-6dd0-49dc-f41a-d803d5705406"
      },
      "outputs": [
        {
          "output_type": "stream",
          "name": "stdout",
          "text": [
            "{'green'}\n"
          ]
        }
      ],
      "source": [
        "set1 = {\"red\", \"blue\", \"green\"}\n",
        "set2 = {\"green\", \"yellow\", \"purple\"}\n",
        "\n",
        "common_colors = set1.intersection(set2)\n",
        "\n",
        "\n",
        "print(common_colors)"
      ]
    },
    {
      "cell_type": "markdown",
      "id": "fe3124b5",
      "metadata": {
        "id": "fe3124b5"
      },
      "source": [
        "### Q49. Check if a set is a subset of another set."
      ]
    },
    {
      "cell_type": "code",
      "execution_count": 42,
      "id": "9414638f",
      "metadata": {
        "id": "9414638f",
        "colab": {
          "base_uri": "https://localhost:8080/"
        },
        "outputId": "69fc1c86-c2ab-4b15-b7fe-8bd13e09299d"
      },
      "outputs": [
        {
          "output_type": "stream",
          "name": "stdout",
          "text": [
            "True\n"
          ]
        }
      ],
      "source": [
        "set1 = {\"red\", \"blue\"}\n",
        "set2 = {\"red\", \"blue\", \"green\", \"yellow\"}\n",
        "\n",
        "is_subset = set1.issubset(set2)\n",
        "\n",
        "print(is_subset)"
      ]
    },
    {
      "cell_type": "markdown",
      "id": "3155bdce",
      "metadata": {
        "id": "3155bdce"
      },
      "source": [
        "### Q50. Check if two sets are disjoint."
      ]
    },
    {
      "cell_type": "code",
      "execution_count": 41,
      "id": "14b85863",
      "metadata": {
        "id": "14b85863",
        "colab": {
          "base_uri": "https://localhost:8080/"
        },
        "outputId": "47aae8f4-3f6e-4430-ee40-73a298f47cb4"
      },
      "outputs": [
        {
          "output_type": "stream",
          "name": "stdout",
          "text": [
            "True\n"
          ]
        }
      ],
      "source": [
        "set1 = {\"red\", \"blue\"}\n",
        "set2 = {\"green\", \"yellow\"}\n",
        "\n",
        "# Check if they are disjoint\n",
        "are_disjoint = set1.isdisjoint(set2)\n",
        "\n",
        "print(are_disjoint)"
      ]
    },
    {
      "cell_type": "markdown",
      "id": "bad362eb",
      "metadata": {
        "id": "bad362eb"
      },
      "source": [
        "### Q51. Create a dictionary with 3 items: name, age, and city."
      ]
    },
    {
      "cell_type": "code",
      "execution_count": 40,
      "id": "cb2ba255",
      "metadata": {
        "id": "cb2ba255",
        "colab": {
          "base_uri": "https://localhost:8080/"
        },
        "outputId": "bf088b7a-aa9b-4c7d-8680-6ec534b4c91a"
      },
      "outputs": [
        {
          "output_type": "stream",
          "name": "stdout",
          "text": [
            "{'name': 'Heba', 'age': 25, 'city': 'Cairo'}\n"
          ]
        }
      ],
      "source": [
        "person = {\n",
        "    \"name\": \"Heba\",\n",
        "    \"age\": 25,\n",
        "    \"city\": \"Cairo\"\n",
        "}\n",
        "\n",
        "print(person)"
      ]
    },
    {
      "cell_type": "markdown",
      "id": "222708fb",
      "metadata": {
        "id": "222708fb"
      },
      "source": [
        "### Q52. Add a new key-value pair to the dictionary."
      ]
    },
    {
      "cell_type": "code",
      "execution_count": 39,
      "id": "f309e8a9",
      "metadata": {
        "id": "f309e8a9",
        "colab": {
          "base_uri": "https://localhost:8080/"
        },
        "outputId": "5faceab1-9a4a-4687-a88f-e46580b7e776"
      },
      "outputs": [
        {
          "output_type": "stream",
          "name": "stdout",
          "text": [
            "{'name': 'Alice', 'age': 25, 'city': 'Cairo', 'job': 'Engineer'}\n"
          ]
        }
      ],
      "source": [
        "person = {\n",
        "    \"name\": \"Alice\",\n",
        "    \"age\": 25,\n",
        "    \"city\": \"Cairo\"\n",
        "}\n",
        "\n",
        "person[\"job\"] = \"Engineer\"\n",
        "\n",
        "print(person)"
      ]
    },
    {
      "cell_type": "markdown",
      "id": "608c6307",
      "metadata": {
        "id": "608c6307"
      },
      "source": [
        "### Q53. Update the value of an existing key in the dictionary."
      ]
    },
    {
      "cell_type": "code",
      "execution_count": 38,
      "id": "a47b25b9",
      "metadata": {
        "id": "a47b25b9",
        "colab": {
          "base_uri": "https://localhost:8080/"
        },
        "outputId": "b3fbd8fb-e640-479f-e8b7-4526c314f4d2"
      },
      "outputs": [
        {
          "output_type": "stream",
          "name": "stdout",
          "text": [
            "{'name': 'Heba', 'age': 30, 'city': 'Cairo'}\n"
          ]
        }
      ],
      "source": [
        "person = {\n",
        "    \"name\": \"Heba\",\n",
        "    \"age\": 25,\n",
        "    \"city\": \"Cairo\"\n",
        "}\n",
        "\n",
        "person[\"age\"] = 30\n",
        "print(person)\n"
      ]
    },
    {
      "cell_type": "markdown",
      "id": "c84dbe1f",
      "metadata": {
        "id": "c84dbe1f"
      },
      "source": [
        "### Q55. Check if a key exists in the dictionary."
      ]
    },
    {
      "cell_type": "code",
      "execution_count": 9,
      "id": "6c8dfaec",
      "metadata": {
        "id": "6c8dfaec",
        "colab": {
          "base_uri": "https://localhost:8080/"
        },
        "outputId": "7812ac30-69a8-4658-f547-414d8614eebf"
      },
      "outputs": [
        {
          "output_type": "stream",
          "name": "stdout",
          "text": [
            "Key exists!\n"
          ]
        }
      ],
      "source": [
        "my_dict = {\"name\": \"Heba\", \"age\": 21, \"city\": \"Cairo\"}\n",
        "\n",
        "if \"age\" in my_dict:\n",
        "    print(\"Key exists!\")\n",
        "else:\n",
        "    print(\"Key not found.\")\n"
      ]
    },
    {
      "cell_type": "markdown",
      "id": "430ec294",
      "metadata": {
        "id": "430ec294"
      },
      "source": [
        "### Q56. Loop through a dictionary and print all keys and values."
      ]
    },
    {
      "cell_type": "code",
      "execution_count": 8,
      "id": "6795ec48",
      "metadata": {
        "id": "6795ec48",
        "colab": {
          "base_uri": "https://localhost:8080/"
        },
        "outputId": "e99deab6-beba-4706-d9b9-4c66cab2d957"
      },
      "outputs": [
        {
          "output_type": "stream",
          "name": "stdout",
          "text": [
            "name : Heba\n",
            "age : 21\n",
            "city : Cairo\n"
          ]
        }
      ],
      "source": [
        "my_dict = {\"name\": \"Heba\", \"age\": 21, \"city\": \"Cairo\"}\n",
        "\n",
        "for key, value in my_dict.items():\n",
        "    print(key, \":\", value)\n"
      ]
    },
    {
      "cell_type": "markdown",
      "id": "da3690bb",
      "metadata": {
        "id": "da3690bb"
      },
      "source": [
        "### Q57. Get all keys from a dictionary using `keys()`."
      ]
    },
    {
      "cell_type": "code",
      "execution_count": 7,
      "id": "cb54c698",
      "metadata": {
        "id": "cb54c698",
        "colab": {
          "base_uri": "https://localhost:8080/"
        },
        "outputId": "93238e36-d5f4-4945-d2f6-1c25926ea733"
      },
      "outputs": [
        {
          "output_type": "stream",
          "name": "stdout",
          "text": [
            "name\n",
            "age\n",
            "city\n"
          ]
        }
      ],
      "source": [
        "my_dict = {\"name\": \"Heba\", \"age\": 21, \"city\": \"Cairo\"}\n",
        "\n",
        "for key in my_dict.keys():\n",
        "    print(key)\n",
        "\n"
      ]
    },
    {
      "cell_type": "markdown",
      "id": "d31b70c5",
      "metadata": {
        "id": "d31b70c5"
      },
      "source": [
        "### Q58. Get all values from a dictionary using `values()`."
      ]
    },
    {
      "cell_type": "code",
      "execution_count": 6,
      "id": "3a766b70",
      "metadata": {
        "id": "3a766b70",
        "colab": {
          "base_uri": "https://localhost:8080/"
        },
        "outputId": "253975a6-b252-4e36-8b2a-75e0553096ed"
      },
      "outputs": [
        {
          "output_type": "stream",
          "name": "stdout",
          "text": [
            "Heba\n",
            "21\n",
            "Cairo\n"
          ]
        }
      ],
      "source": [
        "my_dict = {\"name\": \"Heba\", \"age\": 21, \"city\": \"Cairo\"}\n",
        "\n",
        "for value in my_dict.values():\n",
        "    print(value)\n"
      ]
    },
    {
      "cell_type": "markdown",
      "id": "b0a9ba1f",
      "metadata": {
        "id": "b0a9ba1f"
      },
      "source": [
        "### Q59. Get all key-value pairs using `items()`."
      ]
    },
    {
      "cell_type": "code",
      "source": [
        "dict = {\"name\": \"Heba\", \"age\": 21, \"city\": \"Cairo\"}\n",
        "for key, value in dict.items():\n",
        "    print(key, \":\", value)\n"
      ],
      "metadata": {
        "colab": {
          "base_uri": "https://localhost:8080/"
        },
        "id": "afYXwUJuNP5R",
        "outputId": "609e3d65-7b0f-4f68-b164-b48a71e955ce"
      },
      "id": "afYXwUJuNP5R",
      "execution_count": 5,
      "outputs": [
        {
          "output_type": "stream",
          "name": "stdout",
          "text": [
            "name : Heba\n",
            "age : 21\n",
            "city : Cairo\n"
          ]
        }
      ]
    },
    {
      "cell_type": "markdown",
      "id": "58cd862e",
      "metadata": {
        "id": "58cd862e"
      },
      "source": [
        "### Q60. Create a dictionary from two lists: one for keys and one for values."
      ]
    },
    {
      "cell_type": "code",
      "execution_count": 4,
      "id": "24a5326f",
      "metadata": {
        "id": "24a5326f",
        "colab": {
          "base_uri": "https://localhost:8080/"
        },
        "outputId": "4a667511-b6ac-497e-a177-339db2816dce"
      },
      "outputs": [
        {
          "output_type": "stream",
          "name": "stdout",
          "text": [
            "{'name': 'Heba', 'age': 21, 'city': 'Cairo'}\n"
          ]
        }
      ],
      "source": [
        "\n",
        "keys = [\"name\", \"age\", \"city\"]\n",
        "values = [\"Heba\", 21, \"Cairo\"]\n",
        "\n",
        "dict = dict(zip(keys, values))\n",
        "print(dict)\n"
      ]
    }
  ],
  "metadata": {
    "language_info": {
      "name": "python"
    },
    "colab": {
      "provenance": [],
      "cell_execution_strategy": "setup"
    },
    "kernelspec": {
      "name": "python3",
      "display_name": "Python 3"
    }
  },
  "nbformat": 4,
  "nbformat_minor": 5
}